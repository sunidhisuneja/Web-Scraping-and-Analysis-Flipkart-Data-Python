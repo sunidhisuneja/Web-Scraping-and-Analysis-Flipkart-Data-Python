{
 "cells": [
  {
   "cell_type": "markdown",
   "id": "71e2936f",
   "metadata": {},
   "source": [
    "# Web Scraping Flipkart Data"
   ]
  },
  {
   "cell_type": "code",
   "execution_count": 4,
   "id": "ad971aeb",
   "metadata": {},
   "outputs": [],
   "source": [
    "import pandas as pd\n",
    "import undetected_chromedriver as uc\n",
    "from selenium.webdriver.common.by import By\n",
    "from selenium.webdriver.common.keys import Keys\n",
    "import time"
   ]
  },
  {
   "cell_type": "code",
   "execution_count": 7,
   "id": "44f97ffd",
   "metadata": {},
   "outputs": [
    {
     "name": "stdout",
     "output_type": "stream",
     "text": [
      "Scraping:https://www.flipkart.com/search?q=mobiles+under+50000&sid=tyy%2C4io&as=on&as-show=on&otracker=AS_QueryStore_HistoryAutoSuggest_1_7_na_na_na&otracker1=AS_QueryStore_HistoryAutoSuggest_1_7_na_na_na&as-pos=1&as-type=HISTORY&suggestionId=mobiles+under+50000%7CMobiles&requestId=7b5137f7-0513-4ab5-8f02-28a55120896e&as-searchtext=mobiles&page=2\n",
      "Scraping:https://www.flipkart.com/search?q=mobiles+under+50000&sid=tyy%2C4io&as=on&as-show=on&otracker=AS_QueryStore_HistoryAutoSuggest_1_7_na_na_na&otracker1=AS_QueryStore_HistoryAutoSuggest_1_7_na_na_na&as-pos=1&as-type=HISTORY&suggestionId=mobiles+under+50000%7CMobiles&requestId=7b5137f7-0513-4ab5-8f02-28a55120896e&as-searchtext=mobiles&page=3\n",
      "Scraping:https://www.flipkart.com/search?q=mobiles+under+50000&sid=tyy%2C4io&as=on&as-show=on&otracker=AS_QueryStore_HistoryAutoSuggest_1_7_na_na_na&otracker1=AS_QueryStore_HistoryAutoSuggest_1_7_na_na_na&as-pos=1&as-type=HISTORY&suggestionId=mobiles+under+50000%7CMobiles&requestId=7b5137f7-0513-4ab5-8f02-28a55120896e&as-searchtext=mobiles&page=4\n",
      "Scraping:https://www.flipkart.com/search?q=mobiles+under+50000&sid=tyy%2C4io&as=on&as-show=on&otracker=AS_QueryStore_HistoryAutoSuggest_1_7_na_na_na&otracker1=AS_QueryStore_HistoryAutoSuggest_1_7_na_na_na&as-pos=1&as-type=HISTORY&suggestionId=mobiles+under+50000%7CMobiles&requestId=7b5137f7-0513-4ab5-8f02-28a55120896e&as-searchtext=mobiles&page=5\n",
      "Scraping:https://www.flipkart.com/search?q=mobiles+under+50000&sid=tyy%2C4io&as=on&as-show=on&otracker=AS_QueryStore_HistoryAutoSuggest_1_7_na_na_na&otracker1=AS_QueryStore_HistoryAutoSuggest_1_7_na_na_na&as-pos=1&as-type=HISTORY&suggestionId=mobiles+under+50000%7CMobiles&requestId=7b5137f7-0513-4ab5-8f02-28a55120896e&as-searchtext=mobiles&page=6\n",
      "Scraping:https://www.flipkart.com/search?q=mobiles+under+50000&sid=tyy%2C4io&as=on&as-show=on&otracker=AS_QueryStore_HistoryAutoSuggest_1_7_na_na_na&otracker1=AS_QueryStore_HistoryAutoSuggest_1_7_na_na_na&as-pos=1&as-type=HISTORY&suggestionId=mobiles+under+50000%7CMobiles&requestId=7b5137f7-0513-4ab5-8f02-28a55120896e&as-searchtext=mobiles&page=7\n",
      "                                    Product Name   Prices  \\\n",
      "0     Samsung Galaxy S24 5G (Onyx Black, 128 GB)  ₹49,999   \n",
      "1        Samsung Galaxy S24 FE 5G (Mint, 256 GB)  ₹45,999   \n",
      "2  REDMI Note-14 Pro 5G (Phantom Purple, 128 GB)  ₹23,449   \n",
      "3     REDMI Note 14 Pro 5G (Titan Black, 256 GB)  ₹24,999   \n",
      "4         vivo T4 Ultra 5G (Meteor Grey, 512 GB)  ₹41,999   \n",
      "\n",
      "                                         Description Reviews  \n",
      "0  8 GB RAM | 128 GB ROM\\n15.75 cm (6.2 inch) Ful...     4.6  \n",
      "1  8 GB RAM | 256 GB ROM\\n17.02 cm (6.7 inch) Ful...     4.5  \n",
      "2  8 GB RAM | 128 GB ROM\\n16.94 cm (6.67 inch) Di...     4.3  \n",
      "3  8 GB RAM | 256 GB ROM\\n16.94 cm (6.67 inch) Di...     4.3  \n",
      "4  12 GB RAM | 512 GB ROM\\n16.94 cm (6.67 inch) F...     4.5  \n"
     ]
    }
   ],
   "source": [
    "driver = uc.Chrome()\n",
    "\n",
    "#initializing the lists\n",
    "\n",
    "Product_name, Prices, Description, Reviews = [], [], [], []\n",
    "\n",
    "for k in range(2,8):\n",
    "    url = f'https://www.flipkart.com/search?q=mobiles+under+50000&sid=tyy%2C4io&as=on&as-show=on&otracker=AS_QueryStore_HistoryAutoSuggest_1_7_na_na_na&otracker1=AS_QueryStore_HistoryAutoSuggest_1_7_na_na_na&as-pos=1&as-type=HISTORY&suggestionId=mobiles+under+50000%7CMobiles&requestId=7b5137f7-0513-4ab5-8f02-28a55120896e&as-searchtext=mobiles&page={k}'\n",
    "    print(f'Scraping:{url}')\n",
    "    driver.get(url)\n",
    "    \n",
    "    #wait for it to load\n",
    "    time.sleep(9)\n",
    "    \n",
    "    names = driver.find_elements(By.CLASS_NAME, \"KzDlHZ\")\n",
    "    if not names:\n",
    "        print(f\"Page {k}: No data found (check class names)\")\n",
    "        continue\n",
    "        \n",
    "    prices = driver.find_elements(By.CLASS_NAME, \"Nx9bqj\")\n",
    "    if not prices:\n",
    "        print(f\"Page {k}: No data found (check class names)\")\n",
    "        continue\n",
    "        \n",
    "    descs = driver.find_elements(By.CLASS_NAME, \"G4BRas\")\n",
    "    if not descs:\n",
    "        print(f\"Page {k}: No data found (check class names)\")\n",
    "        continue\n",
    "        \n",
    "    revs = driver.find_elements(By.CLASS_NAME, \"XQDdHH\")\n",
    "    if not revs:\n",
    "        print(f\"Page {k}: No data found (check class names)\")\n",
    "        continue\n",
    "    \n",
    "    # Find max items in this page\n",
    "    max_items = max(len(names), len(prices), len(descs), len(revs))\n",
    "    \n",
    "    # Normalize lengths by filling missing values\n",
    "    for i in range(max_items):\n",
    "        Product_name.append(names[i].text.strip() if i < len(names) else None)\n",
    "        Prices.append(prices[i].text.strip() if i < len(prices) else None)\n",
    "        Description.append(descs[i].text.strip() if i < len(descs) else None)\n",
    "        Reviews.append(revs[i].text.strip() if i < len(revs) else None)\n",
    "\n",
    "\n",
    "#Close the browser\n",
    "driver.quit()\n",
    "\n",
    "#create dataframe\n",
    "df = pd.DataFrame({\"Product Name\": Product_name,\"Prices\": Prices,\"Description\": Description,\"Reviews\": Reviews})\n",
    "\n",
    "print(df.head())\n",
    "\n",
    "#convert to csv\n",
    "df.to_csv(\"flipkart_mobiles.csv\", index=False)\n"
   ]
  },
  {
   "cell_type": "markdown",
   "id": "08e4a96c",
   "metadata": {},
   "source": [
    "# Analysis"
   ]
  },
  {
   "cell_type": "markdown",
   "id": "d41a0430",
   "metadata": {},
   "source": [
    "Problem Statement : \n",
    "Customers compare smartphones before purchasing. Business stakeholders want to know whether price and product reviews (ratings) are significantly related, and if premium brands (Apple, Samsung, OnePlus) receive higher ratings compared to other brands."
   ]
  },
  {
   "cell_type": "code",
   "execution_count": 3,
   "id": "73bea21a",
   "metadata": {},
   "outputs": [],
   "source": [
    "import numpy as np\n",
    "import matplotlib.pyplot as plt\n",
    "import pandas as pd\n",
    "import seaborn as sns\n",
    "from scipy import stats"
   ]
  },
  {
   "cell_type": "code",
   "execution_count": 4,
   "id": "2259fb10",
   "metadata": {},
   "outputs": [
    {
     "data": {
      "text/html": [
       "<div>\n",
       "<style scoped>\n",
       "    .dataframe tbody tr th:only-of-type {\n",
       "        vertical-align: middle;\n",
       "    }\n",
       "\n",
       "    .dataframe tbody tr th {\n",
       "        vertical-align: top;\n",
       "    }\n",
       "\n",
       "    .dataframe thead th {\n",
       "        text-align: right;\n",
       "    }\n",
       "</style>\n",
       "<table border=\"1\" class=\"dataframe\">\n",
       "  <thead>\n",
       "    <tr style=\"text-align: right;\">\n",
       "      <th></th>\n",
       "      <th>Product Name</th>\n",
       "      <th>Prices</th>\n",
       "      <th>Description</th>\n",
       "      <th>Reviews</th>\n",
       "    </tr>\n",
       "  </thead>\n",
       "  <tbody>\n",
       "    <tr>\n",
       "      <th>0</th>\n",
       "      <td>Samsung Galaxy S24 5G (Onyx Black, 128 GB)</td>\n",
       "      <td>₹49,999</td>\n",
       "      <td>8 GB RAM | 128 GB ROM\\n15.75 cm (6.2 inch) Ful...</td>\n",
       "      <td>4.6</td>\n",
       "    </tr>\n",
       "    <tr>\n",
       "      <th>1</th>\n",
       "      <td>Samsung Galaxy S24 FE 5G (Mint, 256 GB)</td>\n",
       "      <td>₹45,999</td>\n",
       "      <td>8 GB RAM | 256 GB ROM\\n17.02 cm (6.7 inch) Ful...</td>\n",
       "      <td>4.5</td>\n",
       "    </tr>\n",
       "    <tr>\n",
       "      <th>2</th>\n",
       "      <td>REDMI Note-14 Pro 5G (Phantom Purple, 128 GB)</td>\n",
       "      <td>₹23,449</td>\n",
       "      <td>8 GB RAM | 128 GB ROM\\n16.94 cm (6.67 inch) Di...</td>\n",
       "      <td>4.3</td>\n",
       "    </tr>\n",
       "    <tr>\n",
       "      <th>3</th>\n",
       "      <td>REDMI Note 14 Pro 5G (Titan Black, 256 GB)</td>\n",
       "      <td>₹24,999</td>\n",
       "      <td>8 GB RAM | 256 GB ROM\\n16.94 cm (6.67 inch) Di...</td>\n",
       "      <td>4.3</td>\n",
       "    </tr>\n",
       "    <tr>\n",
       "      <th>4</th>\n",
       "      <td>vivo T4 Ultra 5G (Meteor Grey, 512 GB)</td>\n",
       "      <td>₹41,999</td>\n",
       "      <td>12 GB RAM | 512 GB ROM\\n16.94 cm (6.67 inch) F...</td>\n",
       "      <td>4.5</td>\n",
       "    </tr>\n",
       "  </tbody>\n",
       "</table>\n",
       "</div>"
      ],
      "text/plain": [
       "                                    Product Name   Prices  \\\n",
       "0     Samsung Galaxy S24 5G (Onyx Black, 128 GB)  ₹49,999   \n",
       "1        Samsung Galaxy S24 FE 5G (Mint, 256 GB)  ₹45,999   \n",
       "2  REDMI Note-14 Pro 5G (Phantom Purple, 128 GB)  ₹23,449   \n",
       "3     REDMI Note 14 Pro 5G (Titan Black, 256 GB)  ₹24,999   \n",
       "4         vivo T4 Ultra 5G (Meteor Grey, 512 GB)  ₹41,999   \n",
       "\n",
       "                                         Description  Reviews  \n",
       "0  8 GB RAM | 128 GB ROM\\n15.75 cm (6.2 inch) Ful...      4.6  \n",
       "1  8 GB RAM | 256 GB ROM\\n17.02 cm (6.7 inch) Ful...      4.5  \n",
       "2  8 GB RAM | 128 GB ROM\\n16.94 cm (6.67 inch) Di...      4.3  \n",
       "3  8 GB RAM | 256 GB ROM\\n16.94 cm (6.67 inch) Di...      4.3  \n",
       "4  12 GB RAM | 512 GB ROM\\n16.94 cm (6.67 inch) F...      4.5  "
      ]
     },
     "execution_count": 4,
     "metadata": {},
     "output_type": "execute_result"
    }
   ],
   "source": [
    "#load the dataset\n",
    "df = pd.read_csv('flipkart_mobiles.csv')\n",
    "df.head()"
   ]
  },
  {
   "cell_type": "code",
   "execution_count": 5,
   "id": "f08e603b",
   "metadata": {},
   "outputs": [
    {
     "data": {
      "text/html": [
       "<div>\n",
       "<style scoped>\n",
       "    .dataframe tbody tr th:only-of-type {\n",
       "        vertical-align: middle;\n",
       "    }\n",
       "\n",
       "    .dataframe tbody tr th {\n",
       "        vertical-align: top;\n",
       "    }\n",
       "\n",
       "    .dataframe thead th {\n",
       "        text-align: right;\n",
       "    }\n",
       "</style>\n",
       "<table border=\"1\" class=\"dataframe\">\n",
       "  <thead>\n",
       "    <tr style=\"text-align: right;\">\n",
       "      <th></th>\n",
       "      <th>Product Name</th>\n",
       "      <th>Prices</th>\n",
       "      <th>Description</th>\n",
       "      <th>Reviews</th>\n",
       "      <th>Brand</th>\n",
       "    </tr>\n",
       "  </thead>\n",
       "  <tbody>\n",
       "    <tr>\n",
       "      <th>0</th>\n",
       "      <td>Samsung Galaxy S24 5G (Onyx Black, 128 GB)</td>\n",
       "      <td>49999.0</td>\n",
       "      <td>8 GB RAM | 128 GB ROM\\n15.75 cm (6.2 inch) Ful...</td>\n",
       "      <td>4.6</td>\n",
       "      <td>Samsung</td>\n",
       "    </tr>\n",
       "    <tr>\n",
       "      <th>1</th>\n",
       "      <td>Samsung Galaxy S24 FE 5G (Mint, 256 GB)</td>\n",
       "      <td>45999.0</td>\n",
       "      <td>8 GB RAM | 256 GB ROM\\n17.02 cm (6.7 inch) Ful...</td>\n",
       "      <td>4.5</td>\n",
       "      <td>Samsung</td>\n",
       "    </tr>\n",
       "    <tr>\n",
       "      <th>2</th>\n",
       "      <td>REDMI Note-14 Pro 5G (Phantom Purple, 128 GB)</td>\n",
       "      <td>23449.0</td>\n",
       "      <td>8 GB RAM | 128 GB ROM\\n16.94 cm (6.67 inch) Di...</td>\n",
       "      <td>4.3</td>\n",
       "      <td>REDMI</td>\n",
       "    </tr>\n",
       "    <tr>\n",
       "      <th>3</th>\n",
       "      <td>REDMI Note 14 Pro 5G (Titan Black, 256 GB)</td>\n",
       "      <td>24999.0</td>\n",
       "      <td>8 GB RAM | 256 GB ROM\\n16.94 cm (6.67 inch) Di...</td>\n",
       "      <td>4.3</td>\n",
       "      <td>REDMI</td>\n",
       "    </tr>\n",
       "    <tr>\n",
       "      <th>4</th>\n",
       "      <td>vivo T4 Ultra 5G (Meteor Grey, 512 GB)</td>\n",
       "      <td>41999.0</td>\n",
       "      <td>12 GB RAM | 512 GB ROM\\n16.94 cm (6.67 inch) F...</td>\n",
       "      <td>4.5</td>\n",
       "      <td>vivo</td>\n",
       "    </tr>\n",
       "  </tbody>\n",
       "</table>\n",
       "</div>"
      ],
      "text/plain": [
       "                                    Product Name   Prices  \\\n",
       "0     Samsung Galaxy S24 5G (Onyx Black, 128 GB)  49999.0   \n",
       "1        Samsung Galaxy S24 FE 5G (Mint, 256 GB)  45999.0   \n",
       "2  REDMI Note-14 Pro 5G (Phantom Purple, 128 GB)  23449.0   \n",
       "3     REDMI Note 14 Pro 5G (Titan Black, 256 GB)  24999.0   \n",
       "4         vivo T4 Ultra 5G (Meteor Grey, 512 GB)  41999.0   \n",
       "\n",
       "                                         Description  Reviews    Brand  \n",
       "0  8 GB RAM | 128 GB ROM\\n15.75 cm (6.2 inch) Ful...      4.6  Samsung  \n",
       "1  8 GB RAM | 256 GB ROM\\n17.02 cm (6.7 inch) Ful...      4.5  Samsung  \n",
       "2  8 GB RAM | 128 GB ROM\\n16.94 cm (6.67 inch) Di...      4.3    REDMI  \n",
       "3  8 GB RAM | 256 GB ROM\\n16.94 cm (6.67 inch) Di...      4.3    REDMI  \n",
       "4  12 GB RAM | 512 GB ROM\\n16.94 cm (6.67 inch) F...      4.5     vivo  "
      ]
     },
     "execution_count": 5,
     "metadata": {},
     "output_type": "execute_result"
    }
   ],
   "source": [
    "#data cleaning\n",
    "\n",
    "# Drop unnecessary column\n",
    "df = df.drop(columns=['Unnamed: 0'], errors='ignore')\n",
    "\n",
    "# Clean Prices\n",
    "df['Prices'] = df['Prices'].replace({'₹':'', ',':''}, regex=True)\n",
    "df['Prices'] = pd.to_numeric(df['Prices'], errors='coerce')\n",
    "\n",
    "# Handle missing values\n",
    "df = df.dropna(subset=['Prices','Reviews'])\n",
    "\n",
    "# Extract Brand\n",
    "df['Brand'] = df['Product Name'].str.split().str[0]\n",
    "df.head()"
   ]
  },
  {
   "cell_type": "markdown",
   "id": "95a85e56",
   "metadata": {},
   "source": [
    "# Hypothesis 1: Price vs Reviews"
   ]
  },
  {
   "cell_type": "markdown",
   "id": "e42defb3",
   "metadata": {},
   "source": [
    "H₀: No significant correlation between smartphone price and customer review rating.\n",
    "\n",
    "H₁: Significant correlation exists."
   ]
  },
  {
   "cell_type": "code",
   "execution_count": 10,
   "id": "5815f9ca",
   "metadata": {},
   "outputs": [
    {
     "name": "stdout",
     "output_type": "stream",
     "text": [
      "Pearson_corr: 0.0434480121875364\n",
      "Pearson_pvalue: 0.5703102735633803\n",
      "Spearman_corr 0.22715218224963266\n",
      "Spearman p_value: 0.002651891101569269\n",
      "p_value(Pearson) is greater than 0.05. We fail to reject null hypothesis.\n",
      "sp_p_value(Spearman) is less than 0.05. We reject null hypoythesis\n"
     ]
    }
   ],
   "source": [
    "pearson_corr, p_value = stats.pearsonr(df['Prices'], df['Reviews'])\n",
    "spearman_corr, sp_p_value = stats.spearmanr(df['Prices'], df['Reviews'])\n",
    "\n",
    "print('Pearson_corr:',pearson_corr)\n",
    "print('Pearson_pvalue:',p_value)\n",
    "print('Spearman_corr',spearman_corr)\n",
    "print('Spearman p_value:',sp_p_value)\n",
    "\n",
    "if p_value < 0.05:\n",
    "    print('p_value(Pearson) is less than 0.05. We reject null hypoythesis')\n",
    "else:\n",
    "    print('p_value(Pearson) is greater than 0.05. We fail to reject null hypothesis.')\n",
    "    \n",
    "if sp_p_value < 0.05:\n",
    "    print('sp_p_value(Spearman) is less than 0.05. We reject null hypoythesis')\n",
    "else:\n",
    "    print('sp_p_value(Spearman) is greater than 0.05. We fail to reject null hypothesis.')"
   ]
  },
  {
   "cell_type": "code",
   "execution_count": 9,
   "id": "a404a55a",
   "metadata": {},
   "outputs": [
    {
     "data": {
      "image/png": "[encoded data removed]",
      "text/plain": [
       "<Figure size 800x600 with 1 Axes>"
      ]
     },
     "metadata": {},
     "output_type": "display_data"
    }
   ],
   "source": [
    "#scatter plot\n",
    "plt.figure(figsize=(8,6))\n",
    "sns.scatterplot(x=df['Prices'], y=df['Reviews'])\n",
    "\n",
    "# Linear regression line (for Pearson)\n",
    "sns.regplot(x=df['Prices'], y=df['Reviews'], scatter=False, \n",
    "            line_kws={'color':'red'}, label=\"Linear Fit (Pearson)\")\n",
    "\n",
    "# Non-linear trend (LOWESS smoother for monotonic patterns)\n",
    "sns.regplot(x=df['Prices'], y=df['Reviews'], scatter=False, \n",
    "            lowess=True, line_kws={'color':'green'}, label=\"LOWESS (Spearman)\")\n",
    "\n",
    "plt.xlabel(\"Prices\")\n",
    "plt.ylabel(\"Reviews\")\n",
    "plt.title(\"Prices vs Reviews: Pearson vs Spearman\")\n",
    "plt.legend()\n",
    "plt.show()"
   ]
  },
  {
   "cell_type": "markdown",
   "id": "2cbdc06a",
   "metadata": {},
   "source": [
    "Interpretation\n",
    "\n",
    "Prices and Reviews don’t have a strong linear relationship, but they do have a monotonic relationship (as prices increase, ratings tend to move in a consistent but non-linear way)."
   ]
  },
  {
   "cell_type": "markdown",
   "id": "f9c38b55",
   "metadata": {},
   "source": [
    "# Hypothesis 2"
   ]
  },
  {
   "cell_type": "markdown",
   "id": "e1855d40",
   "metadata": {},
   "source": [
    "H₀: No significant difference in ratings across brands.\n",
    "H₁: Significant difference exists."
   ]
  },
  {
   "cell_type": "markdown",
   "id": "75326c0a",
   "metadata": {},
   "source": [
    "One way ANOVA We want to test whether mean reviews (continuous) differ across brands (categorical).\n",
    "\n",
    "Here, We have:\n",
    "\n",
    "1 categorical independent variable → Brand\n",
    "\n",
    "1 continuous dependent variable → Review\n",
    "\n",
    "Two-way ANOVA → used if you had two categorical variables (e.g., Brand and Storage Size) and wanted to see how both affect Reviews."
   ]
  },
  {
   "cell_type": "code",
   "execution_count": 14,
   "id": "5ac7266c",
   "metadata": {},
   "outputs": [
    {
     "data": {
      "text/html": [
       "<div>\n",
       "<style scoped>\n",
       "    .dataframe tbody tr th:only-of-type {\n",
       "        vertical-align: middle;\n",
       "    }\n",
       "\n",
       "    .dataframe tbody tr th {\n",
       "        vertical-align: top;\n",
       "    }\n",
       "\n",
       "    .dataframe thead th {\n",
       "        text-align: right;\n",
       "    }\n",
       "</style>\n",
       "<table border=\"1\" class=\"dataframe\">\n",
       "  <thead>\n",
       "    <tr style=\"text-align: right;\">\n",
       "      <th></th>\n",
       "      <th>Product Name</th>\n",
       "      <th>Prices</th>\n",
       "      <th>Description</th>\n",
       "      <th>Reviews</th>\n",
       "      <th>Brand</th>\n",
       "      <th>BrandGroup</th>\n",
       "    </tr>\n",
       "  </thead>\n",
       "  <tbody>\n",
       "    <tr>\n",
       "      <th>0</th>\n",
       "      <td>Samsung Galaxy S24 5G (Onyx Black, 128 GB)</td>\n",
       "      <td>49999.0</td>\n",
       "      <td>8 GB RAM | 128 GB ROM\\n15.75 cm (6.2 inch) Ful...</td>\n",
       "      <td>4.6</td>\n",
       "      <td>Samsung</td>\n",
       "      <td>Samsung</td>\n",
       "    </tr>\n",
       "    <tr>\n",
       "      <th>1</th>\n",
       "      <td>Samsung Galaxy S24 FE 5G (Mint, 256 GB)</td>\n",
       "      <td>45999.0</td>\n",
       "      <td>8 GB RAM | 256 GB ROM\\n17.02 cm (6.7 inch) Ful...</td>\n",
       "      <td>4.5</td>\n",
       "      <td>Samsung</td>\n",
       "      <td>Samsung</td>\n",
       "    </tr>\n",
       "    <tr>\n",
       "      <th>2</th>\n",
       "      <td>REDMI Note-14 Pro 5G (Phantom Purple, 128 GB)</td>\n",
       "      <td>23449.0</td>\n",
       "      <td>8 GB RAM | 128 GB ROM\\n16.94 cm (6.67 inch) Di...</td>\n",
       "      <td>4.3</td>\n",
       "      <td>REDMI</td>\n",
       "      <td>Others</td>\n",
       "    </tr>\n",
       "    <tr>\n",
       "      <th>3</th>\n",
       "      <td>REDMI Note 14 Pro 5G (Titan Black, 256 GB)</td>\n",
       "      <td>24999.0</td>\n",
       "      <td>8 GB RAM | 256 GB ROM\\n16.94 cm (6.67 inch) Di...</td>\n",
       "      <td>4.3</td>\n",
       "      <td>REDMI</td>\n",
       "      <td>Others</td>\n",
       "    </tr>\n",
       "    <tr>\n",
       "      <th>4</th>\n",
       "      <td>vivo T4 Ultra 5G (Meteor Grey, 512 GB)</td>\n",
       "      <td>41999.0</td>\n",
       "      <td>12 GB RAM | 512 GB ROM\\n16.94 cm (6.67 inch) F...</td>\n",
       "      <td>4.5</td>\n",
       "      <td>vivo</td>\n",
       "      <td>Others</td>\n",
       "    </tr>\n",
       "  </tbody>\n",
       "</table>\n",
       "</div>"
      ],
      "text/plain": [
       "                                    Product Name   Prices  \\\n",
       "0     Samsung Galaxy S24 5G (Onyx Black, 128 GB)  49999.0   \n",
       "1        Samsung Galaxy S24 FE 5G (Mint, 256 GB)  45999.0   \n",
       "2  REDMI Note-14 Pro 5G (Phantom Purple, 128 GB)  23449.0   \n",
       "3     REDMI Note 14 Pro 5G (Titan Black, 256 GB)  24999.0   \n",
       "4         vivo T4 Ultra 5G (Meteor Grey, 512 GB)  41999.0   \n",
       "\n",
       "                                         Description  Reviews    Brand  \\\n",
       "0  8 GB RAM | 128 GB ROM\\n15.75 cm (6.2 inch) Ful...      4.6  Samsung   \n",
       "1  8 GB RAM | 256 GB ROM\\n17.02 cm (6.7 inch) Ful...      4.5  Samsung   \n",
       "2  8 GB RAM | 128 GB ROM\\n16.94 cm (6.67 inch) Di...      4.3    REDMI   \n",
       "3  8 GB RAM | 256 GB ROM\\n16.94 cm (6.67 inch) Di...      4.3    REDMI   \n",
       "4  12 GB RAM | 512 GB ROM\\n16.94 cm (6.67 inch) F...      4.5     vivo   \n",
       "\n",
       "  BrandGroup  \n",
       "0    Samsung  \n",
       "1    Samsung  \n",
       "2     Others  \n",
       "3     Others  \n",
       "4     Others  "
      ]
     },
     "execution_count": 14,
     "metadata": {},
     "output_type": "execute_result"
    }
   ],
   "source": [
    "# Focus on top brands vs others\n",
    "#Form brand groups\n",
    "df['BrandGroup'] = df['Brand'].apply(lambda x: x if x in ['Apple','Samsung','OnePlus'] else 'Others')\n",
    "df.head()"
   ]
  },
  {
   "cell_type": "code",
   "execution_count": 17,
   "id": "89e7459a",
   "metadata": {},
   "outputs": [
    {
     "data": {
      "text/plain": [
       "[array([4.6, 4.6, 4.2, 4.6, 4.4, 4.4, 4.6, 4.4, 5. ]),\n",
       " array([4.4, 4.3, 4.6, 4.6, 4.6, 4.6]),\n",
       " array([4.3, 4.3, 4.5, 4.3, 4.5, 4.5, 4.5, 4.3, 4.5, 4.4, 4.4, 4.5, 4.3,\n",
       "        4.4, 4.4, 4.1, 4.5, 5. , 5. , 4.3, 5. , 4.4, 4.3, 4.3, 4.3, 4.3,\n",
       "        4.4, 4.5, 4.5, 4.6, 4.4, 4.4, 4.2, 4.3, 4.4, 4.4, 4.6, 4.6, 4. ,\n",
       "        1. , 4.3, 5. , 4.2, 4.3, 4.3, 4.3, 4.6, 4.4, 4.3, 4.3, 4.5, 4.4,\n",
       "        4.4, 4.2, 5. , 1. , 4.4, 5. , 1. , 4.3, 4.3, 4.5, 4.4, 4.4, 4.4,\n",
       "        4.5, 4.6, 1. , 4.1, 5. , 4. , 4.3, 4.3, 4.5, 4.3, 4.3, 4.3, 4.3,\n",
       "        4.5, 4.5, 4.3, 4.3, 4.3, 4.3, 4.5, 4.4, 4.4, 4.3, 4.3, 4.3, 4.5,\n",
       "        4.4, 4.5, 4.5, 5. , 5. , 4.4, 5. , 4.3, 4.3, 4.5, 4.4, 4.3, 4.3,\n",
       "        4.3, 4.7, 4.7, 4.5, 4.3, 4.7, 4.7, 4.4, 4.4, 4.4, 4.7, 4.7, 4.3,\n",
       "        4.5, 4.3, 4. , 5. , 4.6, 5. , 4. ]),\n",
       " array([4.6, 4.5, 4.3, 4.4, 4.3, 4.4, 4.6, 4.3, 4.6, 4.6, 4.6, 4.6, 4.3,\n",
       "        4.6, 4.3, 4.6, 4.3, 4.3, 4.6, 4.3, 4.4, 4.2, 4.2, 4.1, 4.3, 4.6,\n",
       "        4.1, 4.4, 4.6, 4.6, 4.4, 4.4, 4.4, 4.3])]"
      ]
     },
     "execution_count": 17,
     "metadata": {},
     "output_type": "execute_result"
    }
   ],
   "source": [
    "#for each group_name and group the reviews are converted into lists of numpy array\n",
    "groups = [group['Reviews'].values for name_group, group in df.groupby('BrandGroup')]\n",
    "groups"
   ]
  },
  {
   "cell_type": "code",
   "execution_count": 23,
   "id": "4c6a0d98",
   "metadata": {},
   "outputs": [
    {
     "name": "stdout",
     "output_type": "stream",
     "text": [
      "F_stat: 0.6123396936734455\n",
      "p_value_anova: 0.6078894931042607\n",
      "p_val_anova is greater than 0.05. We fail to reject null hypothesis.There is no significant diff in ratings across brands\n"
     ]
    }
   ],
   "source": [
    "#One way ANOVA test\n",
    "f_stat, p_val_anova = stats.f_oneway(*groups)\n",
    "print('F_stat:',f_stat), print('p_value_anova:',p_val_anova)\n",
    "\n",
    "if p_value < 0.05:\n",
    "    print('p_val_anova is less than 0.05. We reject null hypoythesis.There is significant diff in ratings across brands')\n",
    "else:\n",
    "    print('p_val_anova is greater than 0.05. We fail to reject null hypothesis.There is no significant diff in ratings across brands')"
   ]
  },
  {
   "cell_type": "code",
   "execution_count": 19,
   "id": "b788166c",
   "metadata": {},
   "outputs": [
    {
     "data": {
      "image/png": "[encoded data removed]",
      "text/plain": [
       "<Figure size 600x400 with 1 Axes>"
      ]
     },
     "metadata": {},
     "output_type": "display_data"
    },
    {
     "data": {
      "image/png": "[encoded data removed]",
      "text/plain": [
       "<Figure size 600x400 with 1 Axes>"
      ]
     },
     "metadata": {},
     "output_type": "display_data"
    }
   ],
   "source": [
    "# Price vs Reviews scatter\n",
    "plt.figure(figsize=(6,4))\n",
    "sns.scatterplot(x='Prices', y='Reviews', data=df, hue='BrandGroup')\n",
    "plt.title('Price vs Reviews')\n",
    "plt.show()\n",
    "\n",
    "# Brand comparison boxplot\n",
    "plt.figure(figsize=(6,4))\n",
    "sns.boxplot(x='BrandGroup', y='Reviews', data=df)\n",
    "plt.title('Brand-wise Ratings')\n",
    "plt.show()"
   ]
  },
  {
   "cell_type": "markdown",
   "id": "288757f0",
   "metadata": {},
   "source": [
    "# Conclusion"
   ]
  },
  {
   "cell_type": "markdown",
   "id": "d51d45e2",
   "metadata": {},
   "source": [
    "Correlation is weak, meaning price doesn't guarantee higher ratings.\n",
    "\n",
    "ANOVA tells brands don't have significantly different ratings as compared to each others although premium brands(Samsung,Apple,OnePlus) have a slightly higher ratings."
   ]
  },
  {
   "cell_type": "code",
   "execution_count": null,
   "id": "c49f5b2a",
   "metadata": {},
   "outputs": [],
   "source": []
  }
 ],
 "metadata": {
  "kernelspec": {
   "display_name": "Python 3 (ipykernel)",
   "language": "python",
   "name": "python3"
  },
  "language_info": {
   "codemirror_mode": {
    "name": "ipython",
    "version": 3
   },
   "file_extension": ".py",
   "mimetype": "text/x-python",
   "name": "python",
   "nbconvert_exporter": "python",
   "pygments_lexer": "ipython3",
   "version": "3.10.9"
  }
 },
 "nbformat": 4,
 "nbformat_minor": 5
}
